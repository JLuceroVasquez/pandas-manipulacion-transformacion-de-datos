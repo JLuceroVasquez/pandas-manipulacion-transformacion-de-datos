{
  "nbformat": 4,
  "nbformat_minor": 0,
  "metadata": {
    "colab": {
      "provenance": [],
      "authorship_tag": "ABX9TyOiojKcpJ49mfU8yrb8oPed",
      "include_colab_link": true
    },
    "kernelspec": {
      "name": "python3",
      "display_name": "Python 3"
    },
    "language_info": {
      "name": "python"
    }
  },
  "cells": [
    {
      "cell_type": "markdown",
      "metadata": {
        "id": "view-in-github",
        "colab_type": "text"
      },
      "source": [
        "<a href=\"https://colab.research.google.com/github/JLuceroVasquez/pandas-manipulacion-transformacion-de-datos/blob/main/cuaderno_clases.ipynb\" target=\"_parent\"><img src=\"https://colab.research.google.com/assets/colab-badge.svg\" alt=\"Open In Colab\"/></a>"
      ]
    },
    {
      "cell_type": "markdown",
      "source": [
        "#Pandas transformación y manipulación de datos\n",
        "En este curso se aprendió a usar Pandas para procesar y manipular datos de diversos tipos. Se trabajó en un proyecto de fijación de precios inteligentes para alojamientos inmobiliarios donde se trataron datos numéricos, de texto y de tiempo.\n",
        "La herramienta que se utilizó fue Google Colab. Finalmente, el instructor recomendó tener conocimientos básicos de Pandas, lectura de archivos JSON, selección y agrupación de datos."
      ],
      "metadata": {
        "id": "4MYuYQFBp2_c"
      }
    },
    {
      "cell_type": "code",
      "source": [],
      "metadata": {
        "id": "6TkGJ3adp2qi"
      },
      "execution_count": null,
      "outputs": []
    }
  ]
}